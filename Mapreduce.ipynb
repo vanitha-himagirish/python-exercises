{
 "cells": [
  {
   "cell_type": "markdown",
   "metadata": {},
   "source": [
    "***mapreduce"
   ]
  },
  {
   "cell_type": "code",
   "execution_count": 4,
   "metadata": {},
   "outputs": [],
   "source": [
    "def myFilter(c, f):\n",
    "   c_f = []\n",
    "   for e in c:\n",
    "       if(f(e)):\n",
    "           c_f.append(e)\n",
    "   return c_f\n",
    "\n",
    "def myMap(c, f):\n",
    "   c_f = []\n",
    "   for e in c:\n",
    "       c_f.append(f(e))\n",
    "   return c_f\n",
    "\n",
    "def myReduce(c, f):\n",
    "   t = c[0]\n",
    "   for e in c[1:]:\n",
    "       t = f(t, e)\n",
    "   return t\n",
    "\n",
    "def myReduceByKey(p, f):\n",
    "   p_f = {}\n",
    "   for e in p:\n",
    "       if(e[0] in p_f):\n",
    "           p_f[e[0]] = f(p_f[e[0]], e[1])\n",
    "       else:\n",
    "           p_f[e[0]] = e[1]\n",
    "   return list(p_f.items())"
   ]
  },
  {
   "cell_type": "markdown",
   "metadata": {},
   "source": [
    "***Get number of COMPLETE orders placed by each customer using above libraries\n"
   ]
  },
  {
   "cell_type": "code",
   "execution_count": 3,
   "metadata": {},
   "outputs": [],
   "source": [
    "path = '/home/vanithah/data/part-00000.csv'\n",
    "orders_file = open(path)"
   ]
  },
  {
   "cell_type": "code",
   "execution_count": 4,
   "metadata": {},
   "outputs": [],
   "source": [
    "orders_raw = orders_file.read()\n"
   ]
  },
  {
   "cell_type": "code",
   "execution_count": 5,
   "metadata": {},
   "outputs": [],
   "source": [
    "orders = orders_raw.splitlines()\n"
   ]
  },
  {
   "cell_type": "code",
   "execution_count": 6,
   "metadata": {},
   "outputs": [
    {
     "data": {
      "text/plain": [
       "['1,2013-07-25 00:00:00.0,11599,CLOSED',\n",
       " '2,2013-07-25 00:00:00.0,256,PENDING_PAYMENT',\n",
       " '3,2013-07-25 00:00:00.0,12111,COMPLETE',\n",
       " '4,2013-07-25 00:00:00.0,8827,CLOSED',\n",
       " '5,2013-07-25 00:00:00.0,11318,COMPLETE']"
      ]
     },
     "execution_count": 6,
     "metadata": {},
     "output_type": "execute_result"
    }
   ],
   "source": [
    "orders[:5]"
   ]
  },
  {
   "cell_type": "code",
   "execution_count": 9,
   "metadata": {},
   "outputs": [],
   "source": [
    "closed_orders=myFilter(orders,\n",
    "                       lambda order : order.split(',')[3]=='CLOSED')"
   ]
  },
  {
   "cell_type": "code",
   "execution_count": 50,
   "metadata": {},
   "outputs": [
    {
     "data": {
      "text/plain": [
       "['1,2013-07-25 00:00:00.0,11599,CLOSED',\n",
       " '4,2013-07-25 00:00:00.0,8827,CLOSED',\n",
       " '12,2013-07-25 00:00:00.0,1837,CLOSED',\n",
       " '18,2013-07-25 00:00:00.0,1205,CLOSED',\n",
       " '24,2013-07-25 00:00:00.0,11441,CLOSED']"
      ]
     },
     "execution_count": 50,
     "metadata": {},
     "output_type": "execute_result"
    }
   ],
   "source": [
    "closed_orders[:5]"
   ]
  },
  {
   "cell_type": "code",
   "execution_count": 11,
   "metadata": {},
   "outputs": [
    {
     "data": {
      "text/plain": [
       "['1,2013-07-25 00:00:00.0,11599,CLOSED']"
      ]
     },
     "execution_count": 11,
     "metadata": {},
     "output_type": "execute_result"
    }
   ],
   "source": [
    "orders[:1]"
   ]
  },
  {
   "cell_type": "code",
   "execution_count": 33,
   "metadata": {},
   "outputs": [],
   "source": [
    "orders_customer=myMap(closed_orders, lambda order :(order.split(',')[2],1))"
   ]
  },
  {
   "cell_type": "code",
   "execution_count": 51,
   "metadata": {},
   "outputs": [
    {
     "data": {
      "text/plain": [
       "[('11599', 1), ('8827', 1), ('1837', 1), ('1205', 1), ('11441', 1)]"
      ]
     },
     "execution_count": 51,
     "metadata": {},
     "output_type": "execute_result"
    }
   ],
   "source": [
    "orders_customer[:5]"
   ]
  },
  {
   "cell_type": "code",
   "execution_count": 52,
   "metadata": {},
   "outputs": [
    {
     "data": {
      "text/plain": [
       "5"
      ]
     },
     "execution_count": 52,
     "metadata": {},
     "output_type": "execute_result"
    }
   ],
   "source": [
    "len(orders_customer[:5])"
   ]
  },
  {
   "cell_type": "code",
   "execution_count": 53,
   "metadata": {},
   "outputs": [
    {
     "data": {
      "text/plain": [
       "{('11441', 1), ('11599', 1), ('1205', 1), ('1837', 1), ('8827', 1)}"
      ]
     },
     "execution_count": 53,
     "metadata": {},
     "output_type": "execute_result"
    }
   ],
   "source": [
    "set(orders_customer[:5])"
   ]
  },
  {
   "cell_type": "code",
   "execution_count": 27,
   "metadata": {},
   "outputs": [
    {
     "data": {
      "text/plain": [
       "5655"
      ]
     },
     "execution_count": 27,
     "metadata": {},
     "output_type": "execute_result"
    }
   ],
   "source": [
    "len(set(orders_customer))"
   ]
  },
  {
   "cell_type": "code",
   "execution_count": 28,
   "metadata": {},
   "outputs": [
    {
     "data": {
      "text/plain": [
       "7556"
      ]
     },
     "execution_count": 28,
     "metadata": {},
     "output_type": "execute_result"
    }
   ],
   "source": [
    "len(orders_customer)"
   ]
  },
  {
   "cell_type": "code",
   "execution_count": 45,
   "metadata": {},
   "outputs": [],
   "source": [
    "orders_customer_count=myReduceByKey(orders_customer,lambda t,e : (t+e))"
   ]
  },
  {
   "cell_type": "code",
   "execution_count": 54,
   "metadata": {},
   "outputs": [
    {
     "data": {
      "text/plain": [
       "[('11599', 1),\n",
       " ('8827', 1),\n",
       " ('1837', 2),\n",
       " ('1205', 3),\n",
       " ('11441', 2),\n",
       " ('9503', 1),\n",
       " ('5863', 1),\n",
       " ('12271', 2),\n",
       " ('7073', 1),\n",
       " ('4791', 1)]"
      ]
     },
     "execution_count": 54,
     "metadata": {},
     "output_type": "execute_result"
    }
   ],
   "source": [
    "orders_customer_count[:10]"
   ]
  },
  {
   "cell_type": "markdown",
   "metadata": {},
   "source": [
    "***Get total number of PENDING or PENDING_PAYMENT orders for the month of 2014 January."
   ]
  },
  {
   "cell_type": "code",
   "execution_count": 8,
   "metadata": {},
   "outputs": [],
   "source": [
    "path = '/home/vanithah/data/part-00000.csv'\n",
    "orders_file = open(path)\n",
    "orders_raw = orders_file.read()\n",
    "orders = orders_raw.splitlines()\n"
   ]
  },
  {
   "cell_type": "code",
   "execution_count": 56,
   "metadata": {},
   "outputs": [
    {
     "data": {
      "text/plain": [
       "['1,2013-07-25 00:00:00.0,11599,CLOSED',\n",
       " '2,2013-07-25 00:00:00.0,256,PENDING_PAYMENT',\n",
       " '3,2013-07-25 00:00:00.0,12111,COMPLETE',\n",
       " '4,2013-07-25 00:00:00.0,8827,CLOSED',\n",
       " '5,2013-07-25 00:00:00.0,11318,COMPLETE',\n",
       " '6,2013-07-25 00:00:00.0,7130,COMPLETE',\n",
       " '7,2013-07-25 00:00:00.0,4530,COMPLETE',\n",
       " '8,2013-07-25 00:00:00.0,2911,PROCESSING',\n",
       " '9,2013-07-25 00:00:00.0,5657,PENDING_PAYMENT',\n",
       " '10,2013-07-25 00:00:00.0,5648,PENDING_PAYMENT']"
      ]
     },
     "execution_count": 56,
     "metadata": {},
     "output_type": "execute_result"
    }
   ],
   "source": [
    "orders[:10]"
   ]
  },
  {
   "cell_type": "code",
   "execution_count": 59,
   "metadata": {},
   "outputs": [],
   "source": [
    "pending_orders=myFilter(orders,\n",
    "                       lambda order : (order.split(',')[3]=='PENDING' or order.split(',')[3]=='PENDING_PAYMENT') and (order.split(',')[1].startswith('2014-01')))"
   ]
  },
  {
   "cell_type": "code",
   "execution_count": 61,
   "metadata": {},
   "outputs": [
    {
     "data": {
      "text/plain": [
       "['25876,2014-01-01 00:00:00.0,3414,PENDING_PAYMENT',\n",
       " '25877,2014-01-01 00:00:00.0,5549,PENDING_PAYMENT',\n",
       " '25878,2014-01-01 00:00:00.0,9084,PENDING',\n",
       " '25879,2014-01-01 00:00:00.0,5118,PENDING',\n",
       " '25881,2014-01-01 00:00:00.0,3205,PENDING_PAYMENT',\n",
       " '25883,2014-01-01 00:00:00.0,11764,PENDING',\n",
       " '25884,2014-01-01 00:00:00.0,7904,PENDING_PAYMENT',\n",
       " '25885,2014-01-01 00:00:00.0,7253,PENDING',\n",
       " '25887,2014-01-01 00:00:00.0,10062,PENDING',\n",
       " '25890,2014-01-01 00:00:00.0,2581,PENDING']"
      ]
     },
     "execution_count": 61,
     "metadata": {},
     "output_type": "execute_result"
    }
   ],
   "source": [
    "pending_orders[:10]"
   ]
  },
  {
   "cell_type": "code",
   "execution_count": 62,
   "metadata": {},
   "outputs": [],
   "source": [
    "pending_orders_map=myMap(pending_orders, lambda order :(order.split(',')[1],1))"
   ]
  },
  {
   "cell_type": "code",
   "execution_count": 64,
   "metadata": {},
   "outputs": [
    {
     "data": {
      "text/plain": [
       "[('2014-01-01 00:00:00.0', 1),\n",
       " ('2014-01-01 00:00:00.0', 1),\n",
       " ('2014-01-01 00:00:00.0', 1),\n",
       " ('2014-01-01 00:00:00.0', 1),\n",
       " ('2014-01-01 00:00:00.0', 1),\n",
       " ('2014-01-01 00:00:00.0', 1),\n",
       " ('2014-01-01 00:00:00.0', 1),\n",
       " ('2014-01-01 00:00:00.0', 1),\n",
       " ('2014-01-01 00:00:00.0', 1),\n",
       " ('2014-01-01 00:00:00.0', 1)]"
      ]
     },
     "execution_count": 64,
     "metadata": {},
     "output_type": "execute_result"
    }
   ],
   "source": [
    "pending_orders_map[:10]"
   ]
  },
  {
   "cell_type": "code",
   "execution_count": 66,
   "metadata": {},
   "outputs": [],
   "source": [
    "pending_orders_total=myReduceByKey(pending_orders_map,lambda t,e:t+e)"
   ]
  },
  {
   "cell_type": "code",
   "execution_count": 67,
   "metadata": {},
   "outputs": [
    {
     "data": {
      "text/plain": [
       "[('2014-01-01 00:00:00.0', 49),\n",
       " ('2014-01-02 00:00:00.0', 34),\n",
       " ('2014-01-03 00:00:00.0', 80),\n",
       " ('2014-01-04 00:00:00.0', 44),\n",
       " ('2014-01-05 00:00:00.0', 97),\n",
       " ('2014-01-06 00:00:00.0', 56),\n",
       " ('2014-01-07 00:00:00.0', 55),\n",
       " ('2014-01-08 00:00:00.0', 46),\n",
       " ('2014-01-09 00:00:00.0', 81),\n",
       " ('2014-01-10 00:00:00.0', 75),\n",
       " ('2014-01-11 00:00:00.0', 97),\n",
       " ('2014-01-12 00:00:00.0', 67),\n",
       " ('2014-01-13 00:00:00.0', 53),\n",
       " ('2014-01-14 00:00:00.0', 69),\n",
       " ('2014-01-15 00:00:00.0', 86),\n",
       " ('2014-01-16 00:00:00.0', 67),\n",
       " ('2014-01-17 00:00:00.0', 36),\n",
       " ('2014-01-18 00:00:00.0', 51),\n",
       " ('2014-01-19 00:00:00.0', 73),\n",
       " ('2014-01-20 00:00:00.0', 66),\n",
       " ('2014-01-21 00:00:00.0', 85),\n",
       " ('2014-01-22 00:00:00.0', 69),\n",
       " ('2014-01-23 00:00:00.0', 83),\n",
       " ('2014-01-24 00:00:00.0', 50),\n",
       " ('2014-01-25 00:00:00.0', 31),\n",
       " ('2014-01-26 00:00:00.0', 48),\n",
       " ('2014-01-27 00:00:00.0', 54),\n",
       " ('2014-01-28 00:00:00.0', 61),\n",
       " ('2014-01-29 00:00:00.0', 56),\n",
       " ('2014-01-30 00:00:00.0', 72),\n",
       " ('2014-01-31 00:00:00.0', 78)]"
      ]
     },
     "execution_count": 67,
     "metadata": {},
     "output_type": "execute_result"
    }
   ],
   "source": [
    "pending_orders_total"
   ]
  },
  {
   "cell_type": "markdown",
   "metadata": {},
   "source": [
    "***Get outstanding amount for each month considering orders with status PAYMENT_REVIEW, PENDING, PENDING_PAYMENT and PROCESSING."
   ]
  },
  {
   "cell_type": "code",
   "execution_count": 2,
   "metadata": {},
   "outputs": [],
   "source": [
    "path = '/home/vanithah/data/order_items.csv' \n",
    "orders_file = open(path)\n",
    "orders_raw = orders_file.read()\n",
    "order_items = orders_raw.splitlines()"
   ]
  },
  {
   "cell_type": "code",
   "execution_count": 7,
   "metadata": {},
   "outputs": [
    {
     "data": {
      "text/plain": [
       "{'1,1,957,1,299.98,299.98',\n",
       " '10,5,365,5,299.95,59.99',\n",
       " '2,2,1073,1,199.99,199.99',\n",
       " '3,2,502,5,250.0,50.0',\n",
       " '4,2,403,1,129.99,129.99',\n",
       " '5,4,897,2,49.98,24.99',\n",
       " '6,4,365,5,299.95,59.99',\n",
       " '7,4,502,3,150.0,50.0',\n",
       " '8,4,1014,4,199.92,49.98',\n",
       " '9,5,957,1,299.98,299.98'}"
      ]
     },
     "execution_count": 7,
     "metadata": {},
     "output_type": "execute_result"
    }
   ],
   "source": [
    "set(order_items[:10])"
   ]
  },
  {
   "cell_type": "code",
   "execution_count": 9,
   "metadata": {},
   "outputs": [],
   "source": [
    "orders_pending=myFilter(orders,\n",
    "                       lambda order : (order.split(',')[3]=='PENDING' or order.split(',')[3]=='PENDING_PAYMENT'))"
   ]
  },
  {
   "cell_type": "code",
   "execution_count": 10,
   "metadata": {},
   "outputs": [
    {
     "data": {
      "text/plain": [
       "['2,2013-07-25 00:00:00.0,256,PENDING_PAYMENT',\n",
       " '9,2013-07-25 00:00:00.0,5657,PENDING_PAYMENT',\n",
       " '10,2013-07-25 00:00:00.0,5648,PENDING_PAYMENT',\n",
       " '13,2013-07-25 00:00:00.0,9149,PENDING_PAYMENT',\n",
       " '16,2013-07-25 00:00:00.0,7276,PENDING_PAYMENT']"
      ]
     },
     "execution_count": 10,
     "metadata": {},
     "output_type": "execute_result"
    }
   ],
   "source": [
    "orders_pending[:5]"
   ]
  },
  {
   "cell_type": "code",
   "execution_count": null,
   "metadata": {},
   "outputs": [],
   "source": []
  }
 ],
 "metadata": {
  "kernelspec": {
   "display_name": "Python 3",
   "language": "python",
   "name": "python3"
  },
  "language_info": {
   "codemirror_mode": {
    "name": "ipython",
    "version": 3
   },
   "file_extension": ".py",
   "mimetype": "text/x-python",
   "name": "python",
   "nbconvert_exporter": "python",
   "pygments_lexer": "ipython3",
   "version": "3.6.8"
  }
 },
 "nbformat": 4,
 "nbformat_minor": 4
}
